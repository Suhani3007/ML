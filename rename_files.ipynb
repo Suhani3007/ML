{
 "cells": [
  {
   "cell_type": "markdown",
   "metadata": {},
   "source": [
    "## Renaming file names for IMDB dataset\n",
    "\n",
    "* unsup folder contains unlablled text files: X_0.txt ie. ig. 0_0.txt\n",
    "\n",
    "* neg folder contains negative text files: X_1-4 ie. 1_1.txt, 99_4.txt\n",
    "\n",
    "* pos folder contains positive text files: X_7-10 ie. 4_8.txt, 100_10.txt"
   ]
  },
  {
   "cell_type": "code",
   "execution_count": null,
   "metadata": {},
   "outputs": [],
   "source": [
    "import os\n",
    "import fnmatch"
   ]
  },
  {
   "cell_type": "code",
   "execution_count": 89,
   "metadata": {},
   "outputs": [],
   "source": [
    "#List all text files\n",
    "#'C:/Users/piyak/Github/my-project/Semi-supervised-sequence-learning-Project/imdb_review_scrapping/unsup'\n",
    "directory = ('E:/00.Miscellaneous/~Macquarie University/Session 2/COMP8240 – Applications of Data Science/Research papers/New dataset/IMDB/')\n",
    "unsup_path = (directory + 'unsup')\n",
    "files_to_rename = fnmatch.filter(os.listdir(unsup_path), '*.txt')\n",
    "#print(files_to_rename)"
   ]
  },
  {
   "cell_type": "code",
   "execution_count": 77,
   "metadata": {},
   "outputs": [],
   "source": [
    "#Adding '_0' to all text files in unsup folder\n",
    "for file in files_to_rename:\n",
    "    old_name = os.path.join(unsup_path, file)\n",
    "    #get file name without extension\n",
    "    filename = os.path.splitext(file)[0]\n",
    "    new_name = os.path.join(unsup_path, filename + '_0' + '.txt')\n",
    "\n",
    "    # Renaming the file\n",
    "    os.rename(old_name, new_name)\n"
   ]
  },
  {
   "cell_type": "code",
   "execution_count": 78,
   "metadata": {},
   "outputs": [],
   "source": [
    "#Verify the result\n",
    "files_to_rename = fnmatch.filter(os.listdir(unsup_path), '*.txt')\n",
    "#print(files_to_rename)"
   ]
  },
  {
   "cell_type": "code",
   "execution_count": 86,
   "metadata": {},
   "outputs": [],
   "source": [
    "#List all text files\n",
    "neg_path = (directory + 'neg')\n",
    "files_to_rename = fnmatch.filter(os.listdir(neg_path), '*.txt')\n",
    "#print(files_to_rename)"
   ]
  },
  {
   "cell_type": "code",
   "execution_count": 80,
   "metadata": {},
   "outputs": [],
   "source": [
    "#Adding '_' + random number between 1-4 for all text files in neg folder\n",
    "import random\n",
    "for file in files_to_rename:\n",
    "    old_name = os.path.join(neg_path, file)\n",
    "    #get file name without extension\n",
    "    filename = os.path.splitext(file)[0]\n",
    "    n = random.randint(1,4)\n",
    "    new_name = os.path.join(neg_path, filename + '_'+ str(n) + '.txt')\n",
    "\n",
    "    # Renaming the file\n",
    "    os.rename(old_name, new_name)"
   ]
  },
  {
   "cell_type": "code",
   "execution_count": 87,
   "metadata": {},
   "outputs": [],
   "source": [
    "#Verify the result\n",
    "files_to_rename = fnmatch.filter(os.listdir(neg_path), '*.txt')\n",
    "#print(files_to_rename)"
   ]
  },
  {
   "cell_type": "code",
   "execution_count": 88,
   "metadata": {},
   "outputs": [],
   "source": [
    "#List all text files\n",
    "pos_path = (directory + 'pos')\n",
    "files_to_rename = fnmatch.filter(os.listdir(pos_path), '*.txt')\n",
    "#print(files_to_rename)"
   ]
  },
  {
   "cell_type": "code",
   "execution_count": 83,
   "metadata": {},
   "outputs": [],
   "source": [
    "#Adding '_' + random number between 7-10 for all text files in pos folder\n",
    "import random\n",
    "for file in files_to_rename:\n",
    "    old_name = os.path.join(pos_path, file)\n",
    "    #get file name without extension\n",
    "    filename = os.path.splitext(file)[0]\n",
    "    n = random.randint(7,10)\n",
    "    new_name = os.path.join(pos_path, filename + '_'+ str(n) + '.txt')\n",
    "\n",
    "    # Renaming the file\n",
    "    os.rename(old_name, new_name)"
   ]
  },
  {
   "cell_type": "code",
   "execution_count": 84,
   "metadata": {},
   "outputs": [],
   "source": [
    "#Verify the result\n",
    "files_to_rename = fnmatch.filter(os.listdir(pos_path), '*.txt')\n",
    "#print(files_to_rename)"
   ]
  }
 ],
 "metadata": {
  "interpreter": {
   "hash": "202ae1d9a53d480710569d638e05c8979aaee0e6c92bd2bada56d91af053c3e7"
  },
  "kernelspec": {
   "display_name": "Python 3.8.5 64-bit ('base': conda)",
   "name": "python3"
  },
  "language_info": {
   "codemirror_mode": {
    "name": "ipython",
    "version": 3
   },
   "file_extension": ".py",
   "mimetype": "text/x-python",
   "name": "python",
   "nbconvert_exporter": "python",
   "pygments_lexer": "ipython3",
   "version": "3.8.5"
  },
  "orig_nbformat": 4
 },
 "nbformat": 4,
 "nbformat_minor": 2
}
